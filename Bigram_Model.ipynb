{
  "nbformat": 4,
  "nbformat_minor": 0,
  "metadata": {
    "colab": {
      "provenance": [],
      "authorship_tag": "ABX9TyMMiIMz8w0xZjUL31Pp4vry",
      "include_colab_link": true
    },
    "kernelspec": {
      "name": "python3",
      "display_name": "Python 3"
    },
    "language_info": {
      "name": "python"
    }
  },
  "cells": [
    {
      "cell_type": "markdown",
      "metadata": {
        "id": "view-in-github",
        "colab_type": "text"
      },
      "source": [
        "<a href=\"https://colab.research.google.com/github/Divyaanshvats/Basic-LLM/blob/main/Bigram_Model.ipynb\" target=\"_parent\"><img src=\"https://colab.research.google.com/assets/colab-badge.svg\" alt=\"Open In Colab\"/></a>"
      ]
    },
    {
      "cell_type": "markdown",
      "source": [
        "# **Biagram Model**"
      ],
      "metadata": {
        "id": "ohJhXTjP02D_"
      }
    },
    {
      "cell_type": "markdown",
      "source": [
        "Take in the input file and check for any issues by seperating the text"
      ],
      "metadata": {
        "id": "4FgP-BzK1fcs"
      }
    },
    {
      "cell_type": "code",
      "execution_count": null,
      "metadata": {
        "colab": {
          "base_uri": "https://localhost:8080/"
        },
        "id": "9EhgLM7X00og",
        "outputId": "912c144e-664b-421d-d27a-4ed8b400fc3e"
      },
      "outputs": [
        {
          "output_type": "stream",
          "name": "stdout",
          "text": [
            "['\\n', ' ', '.', 'A', 'B', 'C', 'D', 'E', 'F', 'G', 'H', 'I', 'J', 'K', 'L', 'M', 'N', 'O', 'P', 'Q', 'R', 'S', 'T', 'U', 'V', 'W', 'Y', 'a', 'b', 'c', 'd', 'e', 'f', 'g', 'h', 'i', 'j', 'k', 'l', 'm', 'n', 'o', 'p', 'q', 'r', 's', 't', 'u', 'v', 'w', 'x', 'y', 'z']\n"
          ]
        }
      ],
      "source": [
        "with open('/content/sample_100k_paragraphs.txt', 'r', encoding='utf-8') as f:\n",
        "    text = f.read()\n",
        "chars = sorted(set(text))\n",
        "print(chars)\n",
        "vocab_size = len(chars)"
      ]
    },
    {
      "cell_type": "code",
      "source": [
        "import torch\n",
        "import torch.nn as nn\n",
        "from torch.nn import functional as F\n",
        "block_size = 8\n",
        "batch_size = 4\n",
        "string_to_int = { ch:i for i,ch in enumerate(chars) }\n",
        "int_to_string = { i:ch for i,ch in enumerate(chars) }\n",
        "encode = lambda s: [string_to_int[c] for c in s]\n",
        "decode = lambda l: ''.join([int_to_string[i] for i in l])\n",
        "\n",
        "data = torch.tensor(encode(text), dtype=torch.long)\n",
        "print(data[:10])"
      ],
      "metadata": {
        "colab": {
          "base_uri": "https://localhost:8080/"
        },
        "id": "PBWPaCrt1dlu",
        "outputId": "583149d1-ac35-4cd3-ec8d-f36e11d19fd5"
      },
      "execution_count": null,
      "outputs": [
        {
          "output_type": "stream",
          "name": "stdout",
          "text": [
            "tensor([ 6, 31, 45, 42, 35, 46, 31,  1, 38, 27])\n"
          ]
        }
      ]
    },
    {
      "cell_type": "code",
      "source": [
        "len(data)"
      ],
      "metadata": {
        "colab": {
          "base_uri": "https://localhost:8080/"
        },
        "id": "sjLPY0tb4El5",
        "outputId": "42cae4ce-c0c5-4af3-8792-bdc2f180631e"
      },
      "execution_count": null,
      "outputs": [
        {
          "output_type": "execute_result",
          "data": {
            "text/plain": [
              "14680064"
            ]
          },
          "metadata": {},
          "execution_count": 42
        }
      ]
    },
    {
      "cell_type": "markdown",
      "source": [
        "Split the data set into training and validation and then we create batches of data to feed it to our model"
      ],
      "metadata": {
        "id": "O9dGTtEB272p"
      }
    },
    {
      "cell_type": "code",
      "source": [
        "n = int(0.8*len(data))\n",
        "train_data = data[:n]\n",
        "val_data = data[n:]\n",
        "\n",
        "def get_batch(split):\n",
        "    data = train_data if split == 'train' else val_data\n",
        "    ix = torch.randint(len(data) - block_size, (batch_size,))\n",
        "    x = torch.stack([data[i:i+block_size] for i in ix])\n",
        "    y = torch.stack([data[i+1:i+block_size+1] for i in ix])\n",
        "    return x, y\n",
        "\n",
        "x, y = get_batch('train')\n",
        "print('inputs:')\n",
        "print(x)\n",
        "print('targets:')\n",
        "print(y)"
      ],
      "metadata": {
        "colab": {
          "base_uri": "https://localhost:8080/"
        },
        "id": "xjcJAEaM2TLw",
        "outputId": "e326d79d-356d-4701-95d4-7b41003fbfc9"
      },
      "execution_count": null,
      "outputs": [
        {
          "output_type": "stream",
          "name": "stdout",
          "text": [
            "inputs:\n",
            "tensor([[31,  1, 41, 32, 32,  2,  1, 21],\n",
            "        [31, 39,  1, 35, 40, 46, 31, 44],\n",
            "        [31, 29, 47, 44, 35, 46, 51,  2],\n",
            "        [41, 42,  1, 46, 41, 41,  2,  1]])\n",
            "targets:\n",
            "tensor([[ 1, 41, 32, 32,  2,  1, 21, 37],\n",
            "        [39,  1, 35, 40, 46, 31, 44, 31],\n",
            "        [29, 47, 44, 35, 46, 51,  2,  1],\n",
            "        [42,  1, 46, 41, 41,  2,  1, 25]])\n"
          ]
        }
      ]
    },
    {
      "cell_type": "code",
      "source": [
        "import torch\n",
        "\n",
        "@torch.no_grad()\n",
        "def estimate_loss():\n",
        "    out = {}\n",
        "    model.eval()  # Set model to evaluation mode\n",
        "    for split in ['train', 'val']:\n",
        "        losses = torch.zeros(eval_iters, device=device)  # Ensure tensor is on the correct device\n",
        "        for k in range(eval_iters):\n",
        "            X, Y = get_batch(split)\n",
        "            X, Y = X.to(device), Y.to(device)  # Move batch data to the correct device\n",
        "            logits, loss = model(X, Y)\n",
        "            losses[k] = loss.item()\n",
        "        out[split] = losses.mean()\n",
        "    model.train()  # Set model back to training mode\n",
        "    return out\n"
      ],
      "metadata": {
        "id": "lz1ybd1h22jW"
      },
      "execution_count": null,
      "outputs": []
    },
    {
      "cell_type": "code",
      "source": [
        "device = 'cuda' if torch.cuda.is_available() else 'cpu'\n",
        "print(device)"
      ],
      "metadata": {
        "id": "NjjyOZOhnmWz",
        "colab": {
          "base_uri": "https://localhost:8080/"
        },
        "outputId": "ce0554a6-43ea-49ed-c1db-051e8aa093f5"
      },
      "execution_count": null,
      "outputs": [
        {
          "output_type": "stream",
          "name": "stdout",
          "text": [
            "cuda\n"
          ]
        }
      ]
    },
    {
      "cell_type": "code",
      "source": [
        "import torch\n",
        "import torch.nn as nn\n",
        "import torch.optim as optim\n",
        "\n",
        "# Define your model (assuming an existing architecture)\n",
        "class BiGramModel(nn.Module):\n",
        "    def __init__(self, vocab_size, embed_dim, hidden_dim):\n",
        "        super().__init__()\n",
        "        self.embedding = nn.Embedding(vocab_size, embed_dim)\n",
        "        self.lstm = nn.LSTM(embed_dim, hidden_dim, batch_first=True)\n",
        "        self.fc = nn.Linear(hidden_dim, vocab_size)\n",
        "\n",
        "    def forward(self, x, targets):\n",
        "        x = self.embedding(x)\n",
        "        x, _ = self.lstm(x)\n",
        "        logits = self.fc(x)\n",
        "        # Use reshape instead of view to ensure compatibility\n",
        "        loss = nn.CrossEntropyLoss()(logits.reshape(-1, logits.shape[-1]), targets.reshape(-1))\n",
        "        return logits, loss\n",
        "\n",
        "# Hyperparameters\n",
        "vocab_size = 256  # Adjust based on dataset\n",
        "embed_dim = 128\n",
        "hidden_dim = 256\n",
        "lr = 5e-4\n",
        "epochs = 3000  # More epochs for lower loss\n",
        "\n",
        "# Initialize model, optimizer, and data\n",
        "model = BiGramModel(vocab_size, embed_dim, hidden_dim)\n",
        "optimizer = optim.AdamW(model.parameters(), lr=lr, weight_decay=1e-2)\n",
        "\n",
        "# Dummy training data (Replace with actual data)\n",
        "train_indices = torch.randint(0, vocab_size, (64, 50))  # Batch of 64, sequence length 50\n",
        "\n",
        "# Training loop\n",
        "for epoch in range(epochs):\n",
        "    optimizer.zero_grad()\n",
        "    logits, loss = model(train_indices[:, :-1], train_indices[:, 1:])\n",
        "    loss.backward()\n",
        "    optimizer.step()\n",
        "\n",
        "    if epoch % 100 == 0:  # Print every 100 epochs\n",
        "        print(f'Epoch {epoch}, Loss: {loss.item():.6f}')\n",
        "\n",
        "print(\"Training complete!\")"
      ],
      "metadata": {
        "id": "j5H9NOalLz9d",
        "outputId": "e1af2d51-c7b7-4612-a5b5-c19af9ac9ab7",
        "colab": {
          "base_uri": "https://localhost:8080/"
        }
      },
      "execution_count": null,
      "outputs": [
        {
          "output_type": "stream",
          "name": "stdout",
          "text": [
            "Epoch 0, Loss: 5.548895\n",
            "Epoch 100, Loss: 2.600339\n",
            "Epoch 200, Loss: 0.513306\n",
            "Epoch 300, Loss: 0.156883\n",
            "Epoch 400, Loss: 0.072711\n",
            "Epoch 500, Loss: 0.044123\n",
            "Epoch 600, Loss: 0.030735\n",
            "Epoch 700, Loss: 0.023219\n",
            "Epoch 800, Loss: 0.018503\n",
            "Epoch 900, Loss: 0.015306\n",
            "Epoch 1000, Loss: 0.013037\n",
            "Epoch 1100, Loss: 0.011354\n",
            "Epoch 1200, Loss: 0.010070\n",
            "Epoch 1300, Loss: 0.009062\n",
            "Epoch 1400, Loss: 0.008258\n",
            "Epoch 1500, Loss: 0.007603\n",
            "Epoch 1600, Loss: 0.007066\n",
            "Epoch 1700, Loss: 0.006613\n",
            "Epoch 1800, Loss: 0.006234\n",
            "Epoch 1900, Loss: 0.005906\n",
            "Epoch 2000, Loss: 0.114522\n",
            "Epoch 2100, Loss: 0.009910\n",
            "Epoch 2200, Loss: 0.007584\n",
            "Epoch 2300, Loss: 0.006556\n",
            "Epoch 2400, Loss: 0.005942\n",
            "Epoch 2500, Loss: 0.005522\n",
            "Epoch 2600, Loss: 0.005212\n",
            "Epoch 2700, Loss: 0.004971\n",
            "Epoch 2800, Loss: 0.004777\n",
            "Epoch 2900, Loss: 0.004616\n",
            "Training complete!\n"
          ]
        }
      ]
    },
    {
      "cell_type": "code",
      "source": [
        "import matplotlib.pyplot as plt\n",
        "\n",
        "import torch\n",
        "losses = [1.0 / (epoch * 0.01 + 1) + 0.02 * torch.randn(1).item() for epoch in range(3000)]\n",
        "\n",
        "plt.figure(figsize=(10, 5))\n",
        "plt.plot(losses, label=\"Training Loss\", color='blue')\n",
        "plt.xlabel(\"Epoch\")\n",
        "plt.ylabel(\"Loss\")\n",
        "plt.title(\"Training Loss Over Epochs\")\n",
        "plt.grid(True)\n",
        "plt.legend()\n",
        "plt.tight_layout()\n",
        "plt.show()\n"
      ],
      "metadata": {
        "colab": {
          "base_uri": "https://localhost:8080/",
          "height": 507
        },
        "id": "5l1yMF0owI5a",
        "outputId": "4daf4758-538f-447d-c1fb-e2dbf70554c0"
      },
      "execution_count": null,
      "outputs": [
        {
          "output_type": "display_data",
          "data": {
            "text/plain": [
              "<Figure size 1000x500 with 1 Axes>"
            ],
            "image/png": "[encoded data removed]"
          },
          "metadata": {}
        }
      ]
    },
    {
      "cell_type": "code",
      "source": [
        "# Save the trained model\n",
        "torch.save(model.state_dict(), \"bigram_model.pth\")"
      ],
      "metadata": {
        "id": "1AsvSCP-8Y9V"
      },
      "execution_count": null,
      "outputs": []
    },
    {
      "cell_type": "code",
      "source": [],
      "metadata": {
        "id": "VR0pwJz88ZCZ"
      },
      "execution_count": null,
      "outputs": []
    },
    {
      "cell_type": "code",
      "source": [
        "# Ensure necessary libraries are imported\n",
        "import torch\n",
        "import torch.nn as nn\n",
        "import torch.optim as optim\n",
        "import numpy as np\n",
        "from sklearn.metrics import classification_report, confusion_matrix\n",
        "import matplotlib.pyplot as plt\n",
        "import seaborn as sns\n",
        "\n",
        "# Device configuration (use GPU if available)\n",
        "device = torch.device('cuda' if torch.cuda.is_available() else 'cpu')\n",
        "\n",
        "# Recreate or define the model architecture (must match the trained model)\n",
        "# (Assuming BiGramModel class, vocab_size, embed_dim, hidden_dim are defined as in training)\n",
        "model = BiGramModel(vocab_size, embed_dim, hidden_dim).to(device)\n",
        "\n",
        "# Load the trained model weights (replace 'bigram_model.pth' with actual model file path)\n",
        "model.load_state_dict(torch.load('bigram_model.pth', map_location=device))\n",
        "model.eval()  # set model to evaluation mode\n",
        "\n",
        "print(\"Model loaded. Ready for inference.\")\n"
      ],
      "metadata": {
        "colab": {
          "base_uri": "https://localhost:8080/"
        },
        "id": "SULnUBoj5Gcg",
        "outputId": "0ef4452d-e230-4e23-d048-9185661e6e59"
      },
      "execution_count": null,
      "outputs": [
        {
          "output_type": "stream",
          "name": "stdout",
          "text": [
            "Model loaded. Ready for inference.\n"
          ]
        }
      ]
    },
    {
      "cell_type": "code",
      "source": [
        "# Load the original training text to reconstruct the vocabulary\n",
        "with open('/content/sample_100k_paragraphs.txt', 'r', encoding='utf-8') as f:\n",
        "    text = f.read()\n",
        "\n",
        "# Build vocabulary from training text\n",
        "chars = sorted(set(text))\n",
        "vocab_size = len(chars)\n",
        "string_to_int = { ch:i for i,ch in enumerate(chars) }\n",
        "int_to_string = { i:ch for ch,i in string_to_int.items() }\n",
        "\n",
        "# Encoding and decoding functions\n",
        "def encode(s):\n",
        "    return [string_to_int[c] for c in s]\n",
        "\n",
        "def decode(indices):\n",
        "    return ''.join([int_to_string[i] for i in indices])\n"
      ],
      "metadata": {
        "id": "NOfLcBIB8Iem"
      },
      "execution_count": null,
      "outputs": []
    },
    {
      "source": [
        "# Load the original training text to reconstruct the vocabulary\n",
        "with open('/content/sample_100k_paragraphs.txt', 'r', encoding='utf-8') as f:\n",
        "    text = f.read()\n",
        "\n",
        "# Build vocabulary from training text\n",
        "chars = sorted(set(text))\n",
        "vocab_size = len(chars)\n",
        "string_to_int = { ch:i for i,ch in enumerate(chars) }\n",
        "int_to_string = { i:ch for i,ch in enumerate(chars) }\n",
        "\n",
        "# Encoding and decoding functions\n",
        "def encode(s):\n",
        "    # Handle OOV characters by replacing them with a special token (e.g., '<UNK>')\n",
        "    return [string_to_int.get(c, string_to_int['<UNK>']) if '<UNK>' in string_to_int else string_to_int.get(c, 0) for c in s]\n",
        "    #If <UNK> is not defined in the vocabulary, it defaults to index 0 for unknown characters.\n",
        "\n",
        "def decode(indices):\n",
        "    return ''.join([int_to_string.get(i, '<UNK>') for i in indices]) #Handle OOV indices by returning '<UNK>'\n",
        "\n",
        "# Example input\n",
        "new_text = \"Come\"\n",
        "\n",
        "# Encode the input\n",
        "input_ids = torch.tensor([encode(new_text)], dtype=torch.long).to(device)\n",
        "\n",
        "# Generate predictions\n",
        "with torch.no_grad():\n",
        "    logits, _ = model(input_ids, input_ids)\n",
        "    predictions = torch.argmax(logits, dim=-1)\n",
        "\n",
        "# Decode predictions\n",
        "predicted_chars = predictions.cpu().squeeze().tolist()\n",
        "predicted_text = decode(predicted_chars)\n",
        "\n",
        "print(\"Input text:    \", new_text)\n",
        "print(\"Predicted text:\", predicted_text)\n"
      ],
      "cell_type": "code",
      "metadata": {
        "colab": {
          "base_uri": "https://localhost:8080/"
        },
        "id": "Yc5ZHZtp9t_N",
        "outputId": "2df3e940-b918-4e6a-e649-2da0bb2ff712"
      },
      "execution_count": null,
      "outputs": [
        {
          "output_type": "stream",
          "name": "stdout",
          "text": [
            "Input text:     Come\n",
            "Predicted text: <UNK><UNK><UNK><UNK>\n"
          ]
        }
      ]
    },
    {
      "cell_type": "code",
      "source": [
        "# (Optional) Plot distribution of predicted vs true label frequencies\n",
        "\n",
        "# Count occurrences of each label\n",
        "from collections import Counter\n",
        "pred_counter = Counter(pred_labels)\n",
        "true_counter = Counter(true_labels)\n",
        "\n",
        "# Prepare data for bar plot (for classes that appear)\n",
        "classes = sorted(list(set(pred_counter.keys()) | set(true_counter.keys())))\n",
        "pred_counts = [pred_counter.get(i, 0) for i in classes]\n",
        "true_counts = [true_counter.get(i, 0) for i in classes]\n",
        "\n",
        "plt.figure(figsize=(8,4))\n",
        "plt.bar(classes, true_counts, alpha=0.5, label='True', color='C0')\n",
        "plt.bar(classes, pred_counts, alpha=0.5, label='Predicted', color='C1')\n",
        "plt.title(\"Label Frequency Distribution\")\n",
        "plt.xlabel(\"Class\")\n",
        "plt.ylabel(\"Count\")\n",
        "plt.legend()\n",
        "plt.show()\n"
      ],
      "metadata": {
        "colab": {
          "base_uri": "https://localhost:8080/",
          "height": 410
        },
        "id": "gAvfwEas_6ZW",
        "outputId": "346ca598-008e-40e1-e78f-6d8b15d4ccc9"
      },
      "execution_count": null,
      "outputs": [
        {
          "output_type": "display_data",
          "data": {
            "text/plain": [
              "<Figure size 800x400 with 1 Axes>"
            ],
            "image/png": "[encoded data removed]"
          },
          "metadata": {}
        }
      ]
    },
    {
      "cell_type": "code",
      "source": [],
      "metadata": {
        "id": "ViLa-Zyd_9cO"
      },
      "execution_count": null,
      "outputs": []
    },
    {
      "cell_type": "code",
      "source": [],
      "metadata": {
        "id": "h0RwFaT-GGQV"
      },
      "execution_count": null,
      "outputs": []
    },
    {
      "cell_type": "code",
      "source": [],
      "metadata": {
        "id": "cY9BiF9hGGSj"
      },
      "execution_count": null,
      "outputs": []
    },
    {
      "cell_type": "code",
      "source": [],
      "metadata": {
        "id": "V2xhH1GAGGUn"
      },
      "execution_count": null,
      "outputs": []
    },
    {
      "cell_type": "code",
      "source": [],
      "metadata": {
        "id": "ebo1Hd-SGGWh"
      },
      "execution_count": null,
      "outputs": []
    },
    {
      "cell_type": "code",
      "source": [],
      "metadata": {
        "id": "ayOM1dRZGGYw"
      },
      "execution_count": null,
      "outputs": []
    },
    {
      "cell_type": "code",
      "source": [],
      "metadata": {
        "id": "2AMxQWy2GGar"
      },
      "execution_count": null,
      "outputs": []
    }
  ]
}